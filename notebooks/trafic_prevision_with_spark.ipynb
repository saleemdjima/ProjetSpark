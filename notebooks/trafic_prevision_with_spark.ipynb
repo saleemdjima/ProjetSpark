{
  "nbformat": 4,
  "nbformat_minor": 0,
  "metadata": {
    "colab": {
      "provenance": [],
      "collapsed_sections": [],
      "include_colab_link": true
    },
    "kernelspec": {
      "name": "python3",
      "display_name": "Python 3"
    },
    "language_info": {
      "name": "python"
    }
  },
  "cells": [
    {
      "cell_type": "markdown",
      "metadata": {
        "id": "view-in-github",
        "colab_type": "text"
      },
      "source": [
        "<a href=\"https://colab.research.google.com/github/Saleem146/ProjetSpark/blob/main/Projet_Spark_Prevision_trafic.ipynb\" target=\"_parent\"><img src=\"https://colab.research.google.com/assets/colab-badge.svg\" alt=\"Open In Colab\"/></a>"
      ]
    },
    {
      "cell_type": "markdown",
      "metadata": {
        "id": "lF33cvquA22Y"
      },
      "source": [
        "# Mini-projet Apache Spark\n",
        "\n",
        "Merci d'indiquer les noms composant le binôme :\n",
        "\n",
        "|Nom | Prénom|\n",
        "|---|---|\n",
        "| DJIMA | Saleem |\n",
        "| ILBOUDO | Ben |\n",
        "\n",
        "L'objectif est de collecter les données de validations quotidiennes de titres de transport de la région parisienne, disponibles en Open Data sur le site de Mobilités Ile-de-France.\n",
        "\n",
        "On se concentrera sur le **réseau ferré** exclusivement pour cet exercice."
      ]
    },
    {
      "cell_type": "markdown",
      "metadata": {
        "id": "B4fXsbY1BRCt"
      },
      "source": [
        "## Installation de Spark\n",
        "\n",
        "Apache Spark n'est pas disponible en standard sur Google Colab.\n",
        "Procéder à son installation, ainsi qu'à son initialisation pour réaliser le traitement à venir."
      ]
    },
    {
      "cell_type": "code",
      "metadata": {
        "id": "Xk3QdgByAw-h",
        "colab": {
          "base_uri": "https://localhost:8080/"
        },
        "outputId": "349b2db8-c5b2-423b-99a9-462c9cd5c5de"
      },
      "source": [
        "# installation et initialistion de spark\n",
        "!pip install pyspark\n",
        "\n",
        "import pyspark\n",
        "\n",
        "spark = pyspark.sql.SparkSession.builder.appName(\"Projet\").getOrCreate()\n"
      ],
      "execution_count": null,
      "outputs": [
        {
          "output_type": "stream",
          "name": "stdout",
          "text": [
            "Requirement already satisfied: pyspark in /usr/local/lib/python3.7/dist-packages (3.2.0)\n",
            "Requirement already satisfied: py4j==0.10.9.2 in /usr/local/lib/python3.7/dist-packages (from pyspark) (0.10.9.2)\n"
          ]
        }
      ]
    },
    {
      "cell_type": "markdown",
      "metadata": {
        "id": "uFkMo_2WBcrG"
      },
      "source": [
        "## Récupération des données\n",
        "\n",
        "Sur le site https://data.iledefrance-mobilites.fr, récupérer les données de validation par jour.\n",
        "\n",
        "Exemple :\n",
        "https://data.iledefrance-mobilites.fr/explore/dataset/validations-sur-le-reseau-ferre-nombre-de-validations-par-jour-2e-sem/information/\n",
        "\n",
        "Récupérer les données de S1 2020 et S2 2021 pour disposer d'une année complète.\n",
        "\n",
        "On utilisera pour ce faire les commandes de téléchargement de fichiers depuis un site (pas de chargement manuel).\n",
        "\n",
        "__Attention__ : prévoir une vingtaine de minutes pour le téléchargement, au moins une première fois, et donc une copie sur Google Drive si Google Colab est utilisée, afin d'éviter ce temps d'attente lors de sessions de travail successives."
      ]
    },
    {
      "cell_type": "code",
      "source": [
        "from google.colab import drive\n",
        "drive.mount('/content/drive')"
      ],
      "metadata": {
        "id": "4qsE3DVQnLhu",
        "colab": {
          "base_uri": "https://localhost:8080/"
        },
        "outputId": "9b8c4a08-f3fd-458d-e756-acc95307ea6d"
      },
      "execution_count": null,
      "outputs": [
        {
          "output_type": "stream",
          "name": "stdout",
          "text": [
            "Drive already mounted at /content/drive; to attempt to forcibly remount, call drive.mount(\"/content/drive\", force_remount=True).\n"
          ]
        }
      ]
    },
    {
      "cell_type": "code",
      "metadata": {
        "id": "6mVDDBi4PAWT",
        "colab": {
          "base_uri": "https://localhost:8080/"
        },
        "outputId": "295722a0-9686-4f13-d705-1bc8d08b9beb"
      },
      "source": [
        "# Vos instructions pour le téléchargement\n",
        "# premier semestre 2021\n",
        "!curl -o s12021.csv https://data.iledefrance-mobilites.fr/explore/dataset/validations-sur-le-reseau-ferre-nombre-de-validations-par-jour-1er-sem/download/?format=csv&timezone=Europe/Berlin&lang=fr&use_labels_for_header=true&csv_separator=%3B \n",
        "# second semestre 2020\n",
        "!curl -o s22020.csv https://data.iledefrance-mobilites.fr/explore/dataset/validations-sur-le-reseau-ferre-nombre-de-validations-par-jour-2e-sem/download/?format=csv&timezone=Europe/Berlin&lang=fr&use_labels_for_header=true&csv_separator=%3B "
      ],
      "execution_count": null,
      "outputs": [
        {
          "output_type": "stream",
          "name": "stdout",
          "text": [
            "  % Total    % Received % Xferd  Average Speed   Time    Time     Time  Current\n",
            "                                 Dload  Upload   Total   Spent    Left  Speed\n",
            "100 24.7M    0 24.7M    0     0   132k      0 --:--:--  0:03:10 --:--:--  190k\n",
            "  % Total    % Received % Xferd  Average Speed   Time    Time     Time  Current\n",
            "                                 Dload  Upload   Total   Spent    Left  Speed\n",
            "100 47.3M    0 47.3M    0     0   199k      0 --:--:--  0:04:02 --:--:--  222k\n"
          ]
        }
      ]
    },
    {
      "cell_type": "markdown",
      "metadata": {
        "id": "JieIOSxp_8wM"
      },
      "source": [
        "### Commentaires sur les données disponibles sur ce portail\n",
        "\n",
        "Investiguer les données diponibles sur le portail.\n",
        "\n",
        "Question : peut-on constituer un historique de données s'étendant sur les trois dernières années (2019 à 2021) ?\n"
      ]
    },
    {
      "cell_type": "markdown",
      "metadata": {
        "id": "PEXg6TeoATXD"
      },
      "source": [
        "Non on ne peut pas constituer un historique de données sur les trois dernières années. En effet, les données disponibles sur ses périodes ne sont pas disponible."
      ]
    },
    {
      "cell_type": "markdown",
      "metadata": {
        "id": "9i0jSKz1Orfl"
      },
      "source": [
        "## Lecture des fichiers dans Spark\n",
        "\n",
        "Lire les fichiers en choisissant les bonnes options de lecture.\n",
        "Concaténer les données en une seule table."
      ]
    },
    {
      "cell_type": "markdown",
      "source": [],
      "metadata": {
        "id": "NZTkO_IkkJys"
      }
    },
    {
      "cell_type": "code",
      "metadata": {
        "id": "3Me1V5NfYx2A"
      },
      "source": [
        "# Lecture des fichiers dans Spark\n",
        "import pyspark.sql.functions as fun\n",
        "\n",
        "s12021_ddf = (spark\n",
        "              .read \n",
        "              .csv(\"/content/s12021.csv\",sep=\";\",header = True,inferSchema= True)\n",
        "              )\n",
        "\n",
        "s22020_ddf = (spark\n",
        "              .read \n",
        "              .csv(\"/content/s22020.csv\",sep=\";\",header = True,inferSchema= True)\n",
        "              )"
      ],
      "execution_count": null,
      "outputs": []
    },
    {
      "cell_type": "code",
      "metadata": {
        "colab": {
          "base_uri": "https://localhost:8080/"
        },
        "id": "pjG_ctupNYTl",
        "outputId": "3f63f720-bec1-445f-eda8-2b4b4b2d1c20"
      },
      "source": [
        "# regarder la liste des fichiers\n",
        "s12021_ddf.show(5)\n",
        "s22020_ddf.show(5)"
      ],
      "execution_count": null,
      "outputs": [
        {
          "output_type": "stream",
          "name": "stdout",
          "text": [
            "+----------+--------------+-------------+---------------+-------------+-----------+---------------+-------+\n",
            "|      jour|code_stif_trns|code_stif_res|code_stif_arret|libelle_arret|id_refa_lda|categorie_titre|nb_vald|\n",
            "+----------+--------------+-------------+---------------+-------------+-----------+---------------+-------+\n",
            "|2021-01-04|           100|          110|             47|       BALARD|      71073|              ?|    110|\n",
            "|2021-01-04|           100|          110|             47|       BALARD|      71073|    NAVIGO JOUR|      7|\n",
            "|2021-01-04|           100|          110|            476|  LOUIS BLANC|      71407|              ?|     24|\n",
            "|2021-01-04|           100|          110|            476|  LOUIS BLANC|      71407|    AUTRE TITRE|    132|\n",
            "|2021-01-04|           100|          110|            478|LOUISE MICHEL|      73667|            TST|    226|\n",
            "+----------+--------------+-------------+---------------+-------------+-----------+---------------+-------+\n",
            "only showing top 5 rows\n",
            "\n",
            "+----------+--------------+-------------+---------------+-----------------+-----------+---------------+----------+\n",
            "|      jour|code_stif_trns|code_stif_res|code_stif_arret|    libelle_arret|id_refa_lda|categorie_titre|   nb_vald|\n",
            "+----------+--------------+-------------+---------------+-----------------+-----------+---------------+----------+\n",
            "|2020-10-19|           800|          803|            361|        INVALIDES|      71274|     NON DEFINI|         6|\n",
            "|2020-10-19|           800|          803|            366|             ISSY|      70612|      AMETHYSTE|        13|\n",
            "|2020-10-19|           800|          803|            366|             ISSY|      70612|            FGT|        27|\n",
            "|2020-10-19|           800|          803|            367|ISSY-VAL DE SEINE|      71016|    NAVIGO JOUR|Moins de 5|\n",
            "|2020-10-19|           800|          803|            369|   IVRY-SUR-SEINE|      70540|            FGT|       156|\n",
            "+----------+--------------+-------------+---------------+-----------------+-----------+---------------+----------+\n",
            "only showing top 5 rows\n",
            "\n"
          ]
        }
      ]
    },
    {
      "cell_type": "code",
      "metadata": {
        "id": "uRzuTMKgO3Uw"
      },
      "source": [
        "# Votre code\n",
        "# concatener les dataframes\n",
        "\n",
        "validations_ddf = s22020_ddf.union(s12021_ddf)"
      ],
      "execution_count": null,
      "outputs": []
    },
    {
      "cell_type": "markdown",
      "metadata": {
        "id": "w0_Cb36HPumu"
      },
      "source": [
        "## Validation\n",
        "\n",
        "Si vous avez appelé votre dataframe `validations_ddf`, le test suivant ne doit pas générer d'erreur."
      ]
    },
    {
      "cell_type": "code",
      "metadata": {
        "id": "vFsa7hM5P9mm"
      },
      "source": [
        "assert validations_ddf.count() == 1_316_287, \"Le nombre de lignes ne correspond pas\""
      ],
      "execution_count": null,
      "outputs": []
    },
    {
      "cell_type": "markdown",
      "metadata": {
        "id": "uUL3zXzN0nYN"
      },
      "source": [
        "Dans le cas où ce code génère une erreur, il s'agit probablement d'un problème de récupération ou de lecture des deux fichiers."
      ]
    },
    {
      "cell_type": "markdown",
      "metadata": {
        "id": "geRE6A7VOKtt"
      },
      "source": [
        "## Préparation des données\n",
        "\n",
        "Réaliser les transformations nécessaires pour exploiter ces données :\n",
        "- préparation des dates\n",
        "- transformation du nombre de validation\n",
        "\n",
        "### Explication pour le nombre de validations\n",
        "\n",
        "Analyser les valeurs prises par ce champ et déterminer le problème.\n",
        "Présenter votre stratégie pour remédier à ce choix de codage par Mobilités Ile-de-France."
      ]
    },
    {
      "cell_type": "code",
      "source": [
        "# code pour voir les columns et leurs types\n",
        "validations_ddf.printSchema()\n",
        "# on peut voir que la 8ième colonne (nb_vald) est de type string alors qu'elle contient majoritairemeent des nbres\n",
        "# En effet, on a ce problème parce que pour certaines valeurs on a des chaines de caractère comme:\n",
        "# moins de 5\n",
        "\n"
      ],
      "metadata": {
        "id": "rBdLOK64vROB",
        "colab": {
          "base_uri": "https://localhost:8080/"
        },
        "outputId": "7107296d-c189-4c3d-fa1f-077a0985d31f"
      },
      "execution_count": null,
      "outputs": [
        {
          "output_type": "stream",
          "name": "stdout",
          "text": [
            "root\n",
            " |-- jour: string (nullable = true)\n",
            " |-- code_stif_trns: integer (nullable = true)\n",
            " |-- code_stif_res: string (nullable = true)\n",
            " |-- code_stif_arret: string (nullable = true)\n",
            " |-- libelle_arret: string (nullable = true)\n",
            " |-- id_refa_lda: string (nullable = true)\n",
            " |-- categorie_titre: string (nullable = true)\n",
            " |-- nb_vald: string (nullable = true)\n",
            "\n"
          ]
        }
      ]
    },
    {
      "cell_type": "code",
      "source": [
        "validations_ddf.agg({'nb_vald':'max'}).show()"
      ],
      "metadata": {
        "colab": {
          "base_uri": "https://localhost:8080/"
        },
        "id": "Qj3wDmpo5AqY",
        "outputId": "d5d05e1e-2b32-498a-a175-337bb1c52a0f"
      },
      "execution_count": null,
      "outputs": [
        {
          "output_type": "stream",
          "name": "stdout",
          "text": [
            "+------------+\n",
            "|max(nb_vald)|\n",
            "+------------+\n",
            "|  Moins de 5|\n",
            "+------------+\n",
            "\n"
          ]
        }
      ]
    },
    {
      "cell_type": "markdown",
      "source": [
        "On remarque qu' au niveau de la colonne correspondant au \"nombre de validation\", il y a une modalité \"Moins de 5\". Pour résoudre ce problème, nous avons pris la médiane de l'intervalle entre 1 et 4 qui est 2. \n",
        "REMARQUE: On remarque que les pass navigo sont subdivisés en pass Navigo et pass Navigo Jour. Afin d'avoir une seule catégorie de pass Navigo nous avons transformé les pass Navigos jour en pass Navigo. "
      ],
      "metadata": {
        "id": "mKDUPWwBMlzL"
      }
    },
    {
      "cell_type": "code",
      "source": [
        "# On essaie de remplacer les moins de 5 par 2\n",
        "validations_ddf2 = validations_ddf.withColumn('nb_vald', fun.regexp_replace('nb_vald', 'Moins de 5', '2')).withColumn(\"categorie_titre\",fun.regexp_replace(\"categorie_titre\",\"NAVIGO JOUR\", \"NAVIGO\"))"
      ],
      "metadata": {
        "id": "x39U6C0I7LQ1"
      },
      "execution_count": null,
      "outputs": []
    },
    {
      "cell_type": "code",
      "source": [
        "# On va donc changer le type de cette colonne en numeric tout en supprimant les strings et en précisant que la variable jour est une date\n",
        "validations_ddf2 = validations_ddf2.withColumn(\"nb_vald\",validations_ddf2[\"nb_vald\"].cast('Integer')).withColumn('jour', fun.to_date(fun.col('jour')))\n",
        "# Comme on peut le voir ci-dessous les types de nb_vald sont biens integers "
      ],
      "metadata": {
        "id": "u2HE_R3yrvki"
      },
      "execution_count": null,
      "outputs": []
    },
    {
      "cell_type": "code",
      "source": [
        "# On vérifie les types de nos variables\n",
        "validations_ddf2.printSchema()"
      ],
      "metadata": {
        "colab": {
          "base_uri": "https://localhost:8080/"
        },
        "id": "fgMYlOsRDKH7",
        "outputId": "1c12e9d0-b096-43b2-f82a-8cf6f527af72"
      },
      "execution_count": null,
      "outputs": [
        {
          "output_type": "stream",
          "name": "stdout",
          "text": [
            "root\n",
            " |-- jour: date (nullable = true)\n",
            " |-- code_stif_trns: integer (nullable = true)\n",
            " |-- code_stif_res: string (nullable = true)\n",
            " |-- code_stif_arret: string (nullable = true)\n",
            " |-- libelle_arret: string (nullable = true)\n",
            " |-- id_refa_lda: string (nullable = true)\n",
            " |-- categorie_titre: string (nullable = true)\n",
            " |-- nb_vald: integer (nullable = true)\n",
            "\n"
          ]
        }
      ]
    },
    {
      "cell_type": "markdown",
      "metadata": {
        "id": "WeDTdkHk8lae"
      },
      "source": [
        "## Détermination des principales catégories de titre\n",
        "\n",
        "Différentes catégories de titre sont utilisées sur le réseau.\n",
        "\n",
        "Déterminer les deux catégories principalement utilisées. Seules ces catégories seront utilisées dans les travaux ci-après (les utiliser comme filtre sur les validations dans la suite)."
      ]
    },
    {
      "cell_type": "code",
      "source": [
        "# Pass les plus utilisés:\n",
        "validations_ddf2.groupBy('categorie_titre').count().sort('count',ascending=False).show()"
      ],
      "metadata": {
        "colab": {
          "base_uri": "https://localhost:8080/"
        },
        "id": "7fek_tY65wYA",
        "outputId": "cad18f4b-3418-45ae-d499-9b858f617227"
      },
      "execution_count": null,
      "outputs": [
        {
          "output_type": "stream",
          "name": "stdout",
          "text": [
            "+---------------+------+\n",
            "|categorie_titre| count|\n",
            "+---------------+------+\n",
            "|         NAVIGO|279802|\n",
            "|      IMAGINE R|160057|\n",
            "|            FGT|157210|\n",
            "|            TST|156707|\n",
            "|      AMETHYSTE|154723|\n",
            "|     NON DEFINI|151096|\n",
            "|              ?|140873|\n",
            "|    AUTRE TITRE|115819|\n",
            "+---------------+------+\n",
            "\n"
          ]
        }
      ]
    },
    {
      "cell_type": "markdown",
      "source": [
        "On remarque que les deux catégories de pass les plus utilisés sont le pass Navigo et le pass Imagine R"
      ],
      "metadata": {
        "id": "awPheC1POuhN"
      }
    },
    {
      "cell_type": "markdown",
      "metadata": {
        "id": "4iY3-EDD6QfK"
      },
      "source": [
        "## Visualisation du trafic dans une station\n",
        "\n",
        "Visualiser le trafic à la gare de Lyon pour les deux catégories de titre principales.\n",
        "\n",
        "Attention à gérer le cas des gares (comme la gare de Lyon) présentes sur plusieurs lignes et dont le libellé apparaît donc sur plusieurs lignes. Investiguer ce cas avant de déterminer la bonne façon de calculer le nombre de validations pour la gare de Lyon."
      ]
    },
    {
      "cell_type": "code",
      "source": [
        "import seaborn as sns\n",
        "sns.set()\n",
        "\n",
        "(validations_ddf2\n",
        " .filter(validations_ddf2.libelle_arret ==\"GARE DE LYON\")\n",
        " .where((validations_ddf2.categorie_titre == \"NAVIGO\" ) | (validations_ddf2.categorie_titre == \"IMAGINE R\"))\n",
        " .groupBy(['jour', 'categorie_titre'])\n",
        " .agg(fun.sum('nb_vald').alias('validation'))\n",
        " .orderBy(['jour', 'categorie_titre'])\n",
        ").toPandas().set_index([ 'jour','categorie_titre']).unstack(1).plot(figsize=(12, 5));"
      ],
      "metadata": {
        "id": "iN8Ovp2Wf_ZU",
        "colab": {
          "base_uri": "https://localhost:8080/",
          "height": 351
        },
        "outputId": "724918fe-51bb-40c2-842a-08df52696581"
      },
      "execution_count": null,
      "outputs": [
        {
          "output_type": "display_data",
          "data": {
            "image/png": "[encoded data removed]",
            "text/plain": [
              "<Figure size 864x360 with 1 Axes>"
            ]
          },
          "metadata": {}
        }
      ]
    },
    {
      "cell_type": "markdown",
      "metadata": {
        "id": "2Ae6sckJdxjE"
      },
      "source": [
        "## Fluctuation du trafic hebdomadaire\n",
        "\n",
        "Calculer le trafic total et le pourcentage par jour de la semaine sur l'ensemble du réseau.\n",
        "\n",
        "Trier le résultat par ordre décroissant de validations.\n",
        "\n",
        "Note : considérer l'usage d'une fonction analytique (`Window.partitionBy()`).\n"
      ]
    },
    {
      "cell_type": "code",
      "source": [
        "import pyspark.sql.functions as F\n",
        "\n",
        "from pyspark.sql.window import Window\n",
        "(validations_ddf2\n",
        " .select('jour', 'libelle_arret', 'categorie_titre', 'nb_vald')\n",
        " #.filter(validations_ddf2.libelle_arret ==\"GARE DE LYON\")\n",
        " .where((validations_ddf2.categorie_titre == \"NAVIGO\" ) | (validations_ddf2.categorie_titre == \"IMAGINE R\"))\n",
        " .withColumn('trafic_total',F.sum(F.col('nb_vald')).over(Window.partitionBy(F.weekofyear(F.col('jour')))))\n",
        " .withColumn('pourcentage_journalier',F.sum(F.col('nb_vald')).over(Window.partitionBy(F.weekofyear(F.col('jour')),F.dayofweek(F.col('jour'))))/(F.sum(F.col('nb_vald')).over(Window.partitionBy(F.weekofyear(F.col('jour'))))))\n",
        " .orderBy([\"jour\"], ascending = True)\n",
        ").show(5)\n"
      ],
      "metadata": {
        "colab": {
          "base_uri": "https://localhost:8080/"
        },
        "id": "-DjV_I4Uqm35",
        "outputId": "8f23e0bc-0f8d-4d72-d01f-411b06b404ec"
      },
      "execution_count": null,
      "outputs": [
        {
          "output_type": "stream",
          "name": "stdout",
          "text": [
            "+----------+--------------------+---------------+-------+------------+----------------------+\n",
            "|      jour|       libelle_arret|categorie_titre|nb_vald|trafic_total|pourcentage_journalier|\n",
            "+----------+--------------------+---------------+-------+------------+----------------------+\n",
            "|2020-07-01|       PORTE MAILLOT|         NAVIGO|   7244|     9106908|   0.24223995674492374|\n",
            "|2020-07-01|              BOURSE|      IMAGINE R|    531|     9106908|   0.24223995674492374|\n",
            "|2020-07-01|              ALESIA|      IMAGINE R|   1230|     9106908|   0.24223995674492374|\n",
            "|2020-07-01|              ALESIA|         NAVIGO|   4067|     9106908|   0.24223995674492374|\n",
            "|2020-07-01|BOULOGNE-PONT DE ...|      IMAGINE R|    638|     9106908|   0.24223995674492374|\n",
            "+----------+--------------------+---------------+-------+------------+----------------------+\n",
            "only showing top 5 rows\n",
            "\n"
          ]
        }
      ]
    },
    {
      "cell_type": "markdown",
      "metadata": {
        "id": "nMN5ZAs_dRWN"
      },
      "source": [
        "## Analyse de l'impact du reconfinement d'octobre 2020\n",
        "\n",
        "Mettre en évidence graphiquement l'impact du reconfinement.\n",
        "\n",
        "N'utiliser que les catégories de titre _IMAGINE R_ et _Navigo_.\n"
      ]
    },
    {
      "cell_type": "code",
      "source": [
        "# On a représenté le trafici sur les mois de septembre, octobre, novembre et décembre\n",
        "\n",
        "\n",
        "validations_ddf3 = validations_ddf2.where((validations_ddf2.categorie_titre == \"NAVIGO\" ) | (validations_ddf2.categorie_titre == \"IMAGINE R\"))\n",
        "validations_ddf6 = validations_ddf3.withColumn('mois', F.month(F.col('jour')))\n",
        "validations_ddf7 = validations_ddf6.where((validations_ddf6.mois == 10) | (validations_ddf6.mois == 11)| (validations_ddf6.mois == 9) | (validations_ddf6.mois == 12))\n",
        "\n",
        "(validations_ddf7\n",
        " #.filter(validations_ddf7.libelle_arret ==\"GARE DE LYON\")\n",
        " .where((validations_ddf7.categorie_titre == \"NAVIGO\" ) | (validations_ddf7.categorie_titre == \"IMAGINE R\"))\n",
        " .withColumn('jour', F.date_trunc('day', F.col('jour')))\n",
        " .groupBy(['jour', 'categorie_titre'])\n",
        " .agg(F.sum('nb_vald').alias('validation'))\n",
        " .orderBy(['jour', 'categorie_titre'])\n",
        ").toPandas().set_index([ 'jour','categorie_titre']).unstack(1).plot(figsize=(12, 5));\n"
      ],
      "metadata": {
        "colab": {
          "base_uri": "https://localhost:8080/",
          "height": 362
        },
        "id": "cPbefEkXYFx7",
        "outputId": "d200cab3-243f-4f21-bafb-22c4c2e65338"
      },
      "execution_count": null,
      "outputs": [
        {
          "output_type": "display_data",
          "data": {
            "image/png": "[encoded data removed]",
            "text/plain": [
              "<Figure size 864x360 with 1 Axes>"
            ]
          },
          "metadata": {}
        }
      ]
    },
    {
      "cell_type": "markdown",
      "source": [
        "On remarque une grande baisse du trafic à partir de la fin du mois d'octobre qui marque l'effet du confinement .\n"
      ],
      "metadata": {
        "id": "FsI3fuHCa53U"
      }
    },
    {
      "cell_type": "markdown",
      "metadata": {
        "id": "QYNecvg2zbWE"
      },
      "source": [
        "#### Bonus\n",
        "\n",
        "Calculer la moyenne glissante sur 7 jours par categorie de titre pour réduire les variations hebdomadaires."
      ]
    },
    {
      "cell_type": "code",
      "source": [
        "# On a extraire les différentes semaines de l'années et utilisé la commande windows partition pour pouvoir calculer la moyenne glissante sur 7 jours.\n",
        "validations_ddf5 = validations_ddf3.withColumn('semaine', F.weekofyear(F.col('jour')))\n",
        "dff = validations_ddf5.withColumn('rolling_average', F.avg(\"nb_vald\").over(Window.partitionBy(F.col(\"categorie_titre\"),F.window(\"jour\", \"7 days\"))))\n"
      ],
      "metadata": {
        "id": "zb5Acx0jcXap"
      },
      "execution_count": null,
      "outputs": []
    },
    {
      "cell_type": "code",
      "source": [
        "(dff\n",
        " #.filter(dff.libelle_arret ==\"GARE DE LYON\")\n",
        " .where((dff.categorie_titre == \"NAVIGO\" ) | (dff.categorie_titre == \"IMAGINE R\"))\n",
        " .withColumn('jour', F.date_trunc('day', F.col('jour')))\n",
        " .groupBy(['jour', 'categorie_titre'])\n",
        " .agg(F.sum('rolling_average').alias('validation'))\n",
        " .orderBy(['jour', 'categorie_titre'])\n",
        ").toPandas().set_index([ 'jour','categorie_titre']).unstack(1).plot(figsize=(12, 5))\n"
      ],
      "metadata": {
        "colab": {
          "base_uri": "https://localhost:8080/",
          "height": 380
        },
        "id": "CeRGQDCedHK6",
        "outputId": "8c0413fd-03f3-49f5-80db-75aa8d8e2e11"
      },
      "execution_count": null,
      "outputs": [
        {
          "output_type": "execute_result",
          "data": {
            "text/plain": [
              "<matplotlib.axes._subplots.AxesSubplot at 0x7fe0ae0ac750>"
            ]
          },
          "metadata": {},
          "execution_count": 148
        },
        {
          "output_type": "display_data",
          "data": {
            "image/png": "[encoded data removed]",
            "text/plain": [
              "<Figure size 864x360 with 1 Axes>"
            ]
          },
          "metadata": {}
        }
      ]
    },
    {
      "cell_type": "markdown",
      "source": [
        "Le graphique ci-dessus montre la réduction des fluctuations des catégories Navigo et Imagine R en utilisant les moyennes glissantes sur 7 jours. "
      ],
      "metadata": {
        "id": "fF2zWqVKdgcy"
      }
    },
    {
      "cell_type": "markdown",
      "metadata": {
        "id": "XjTPspGbAecD"
      },
      "source": [
        "## Modélisation avec Apache Spark\n",
        "\n",
        "On essaie de faire un modèle basique de prévision du trafic dans les 7 prochains jours, pour une station.\n",
        "\n",
        "Apache Spark MLlib n'intègre pas de modèle pour les séries chronologiques.\n",
        "\n",
        "L'approche classique est alors d'utiliser une technique de régression classique (régression linéaire bien sûr, mais aussi RandomForestRegressor par exemple).\n",
        "\n",
        "Pour une première version simple, utiliser un vecteur constituer des validations sur les 14 jours précédents (X) pour prédire les validations du jour (y). Dans cette version, on utilisera une `LinearRegression` ou un `RandomForestRegressor`, au choix.\n",
        "\n",
        "Le code doit comporter :\n",
        "- la préparation des _features_ (X)\n",
        "- la constitution d'un ensemble d'apprentissage et de test\n",
        "- l'entrainement d'un modèle\n",
        "- le mesure de la performance du modèle : RMSE\n",
        "\n",
        "Rappel : ne travailler que sur les deux catégories de titre principales.\n"
      ]
    },
    {
      "cell_type": "markdown",
      "source": [
        "**Preparation de features(X)**"
      ],
      "metadata": {
        "id": "6oBBwVXNiBev"
      }
    },
    {
      "cell_type": "markdown",
      "source": [
        "**Dans la suite nous avons choisi la Gare de LYON comme Station**"
      ],
      "metadata": {
        "id": "xzJMTOzGkmNF"
      }
    },
    {
      "cell_type": "code",
      "source": [
        "# On va convertir notre base en une base de machine learning tout en ordonnant les dates\n",
        "# Convertion en base pandas\n",
        "# On prend uniquement les catégories Navigo et Imagine R\n",
        "df = (validations_ddf3\n",
        " #.filter(~fun.isnull(fun.col(\"nb_vald\")))\n",
        " .filter(validations_ddf2.libelle_arret ==\"GARE DE LYON\")\n",
        " .where((validations_ddf2.categorie_titre ==\"NAVIGO\") | (validations_ddf2.categorie_titre ==\"IMAGINE R\"))\n",
        " .withColumn(\"journée\", fun.date_trunc(\"day\", fun.col(\"jour\")))\n",
        " .groupBy([\"journée\"])\n",
        " .agg(fun.sum(\"nb_vald\").alias(\"validation total\"))\n",
        " .orderBy(\"journée\")\n",
        " ).toPandas().set_index([\"journée\"])"
      ],
      "metadata": {
        "id": "SILjrir54WoM"
      },
      "execution_count": null,
      "outputs": []
    },
    {
      "cell_type": "code",
      "source": [
        "from statsmodels.tsa.tsatools import lagmat\n",
        "\n",
        "import pandas as pd\n",
        "\n",
        "lag = 14\n",
        "X = lagmat(df[\"validation total\"], lag)\n",
        "lagged = df.copy()\n",
        "for c in range(1, lag +1):\n",
        "  lagged[\"lag%d\" % c] = X[:, c-1]\n",
        "\n",
        "pd.concat([lagged.head(),lagged.tail()]) "
      ],
      "metadata": {
        "colab": {
          "base_uri": "https://localhost:8080/",
          "height": 394
        },
        "id": "3kfmEcffMLSm",
        "outputId": "d4206b4d-40fe-45db-abae-37addd03e51e"
      },
      "execution_count": null,
      "outputs": [
        {
          "output_type": "execute_result",
          "data": {
            "text/html": [
              "\n",
              "  <div id=\"df-4b904526-1b41-4411-a61e-d806775b171e\">\n",
              "    <div class=\"colab-df-container\">\n",
              "      <div>\n",
              "<style scoped>\n",
              "    .dataframe tbody tr th:only-of-type {\n",
              "        vertical-align: middle;\n",
              "    }\n",
              "\n",
              "    .dataframe tbody tr th {\n",
              "        vertical-align: top;\n",
              "    }\n",
              "\n",
              "    .dataframe thead th {\n",
              "        text-align: right;\n",
              "    }\n",
              "</style>\n",
              "<table border=\"1\" class=\"dataframe\">\n",
              "  <thead>\n",
              "    <tr style=\"text-align: right;\">\n",
              "      <th></th>\n",
              "      <th>validation total</th>\n",
              "      <th>lag1</th>\n",
              "      <th>lag2</th>\n",
              "      <th>lag3</th>\n",
              "      <th>lag4</th>\n",
              "      <th>lag5</th>\n",
              "      <th>lag6</th>\n",
              "      <th>lag7</th>\n",
              "      <th>lag8</th>\n",
              "      <th>lag9</th>\n",
              "      <th>lag10</th>\n",
              "      <th>lag11</th>\n",
              "      <th>lag12</th>\n",
              "      <th>lag13</th>\n",
              "      <th>lag14</th>\n",
              "    </tr>\n",
              "    <tr>\n",
              "      <th>journée</th>\n",
              "      <th></th>\n",
              "      <th></th>\n",
              "      <th></th>\n",
              "      <th></th>\n",
              "      <th></th>\n",
              "      <th></th>\n",
              "      <th></th>\n",
              "      <th></th>\n",
              "      <th></th>\n",
              "      <th></th>\n",
              "      <th></th>\n",
              "      <th></th>\n",
              "      <th></th>\n",
              "      <th></th>\n",
              "      <th></th>\n",
              "    </tr>\n",
              "  </thead>\n",
              "  <tbody>\n",
              "    <tr>\n",
              "      <th>2020-07-01</th>\n",
              "      <td>25309</td>\n",
              "      <td>0.0</td>\n",
              "      <td>0.0</td>\n",
              "      <td>0.0</td>\n",
              "      <td>0.0</td>\n",
              "      <td>0.0</td>\n",
              "      <td>0.0</td>\n",
              "      <td>0.0</td>\n",
              "      <td>0.0</td>\n",
              "      <td>0.0</td>\n",
              "      <td>0.0</td>\n",
              "      <td>0.0</td>\n",
              "      <td>0.0</td>\n",
              "      <td>0.0</td>\n",
              "      <td>0.0</td>\n",
              "    </tr>\n",
              "    <tr>\n",
              "      <th>2020-07-02</th>\n",
              "      <td>25618</td>\n",
              "      <td>25309.0</td>\n",
              "      <td>0.0</td>\n",
              "      <td>0.0</td>\n",
              "      <td>0.0</td>\n",
              "      <td>0.0</td>\n",
              "      <td>0.0</td>\n",
              "      <td>0.0</td>\n",
              "      <td>0.0</td>\n",
              "      <td>0.0</td>\n",
              "      <td>0.0</td>\n",
              "      <td>0.0</td>\n",
              "      <td>0.0</td>\n",
              "      <td>0.0</td>\n",
              "      <td>0.0</td>\n",
              "    </tr>\n",
              "    <tr>\n",
              "      <th>2020-07-03</th>\n",
              "      <td>24999</td>\n",
              "      <td>25618.0</td>\n",
              "      <td>25309.0</td>\n",
              "      <td>0.0</td>\n",
              "      <td>0.0</td>\n",
              "      <td>0.0</td>\n",
              "      <td>0.0</td>\n",
              "      <td>0.0</td>\n",
              "      <td>0.0</td>\n",
              "      <td>0.0</td>\n",
              "      <td>0.0</td>\n",
              "      <td>0.0</td>\n",
              "      <td>0.0</td>\n",
              "      <td>0.0</td>\n",
              "      <td>0.0</td>\n",
              "    </tr>\n",
              "    <tr>\n",
              "      <th>2020-07-04</th>\n",
              "      <td>15237</td>\n",
              "      <td>24999.0</td>\n",
              "      <td>25618.0</td>\n",
              "      <td>25309.0</td>\n",
              "      <td>0.0</td>\n",
              "      <td>0.0</td>\n",
              "      <td>0.0</td>\n",
              "      <td>0.0</td>\n",
              "      <td>0.0</td>\n",
              "      <td>0.0</td>\n",
              "      <td>0.0</td>\n",
              "      <td>0.0</td>\n",
              "      <td>0.0</td>\n",
              "      <td>0.0</td>\n",
              "      <td>0.0</td>\n",
              "    </tr>\n",
              "    <tr>\n",
              "      <th>2020-07-05</th>\n",
              "      <td>14893</td>\n",
              "      <td>15237.0</td>\n",
              "      <td>24999.0</td>\n",
              "      <td>25618.0</td>\n",
              "      <td>25309.0</td>\n",
              "      <td>0.0</td>\n",
              "      <td>0.0</td>\n",
              "      <td>0.0</td>\n",
              "      <td>0.0</td>\n",
              "      <td>0.0</td>\n",
              "      <td>0.0</td>\n",
              "      <td>0.0</td>\n",
              "      <td>0.0</td>\n",
              "      <td>0.0</td>\n",
              "      <td>0.0</td>\n",
              "    </tr>\n",
              "    <tr>\n",
              "      <th>2021-05-27</th>\n",
              "      <td>21887</td>\n",
              "      <td>21830.0</td>\n",
              "      <td>24088.0</td>\n",
              "      <td>19768.0</td>\n",
              "      <td>12157.0</td>\n",
              "      <td>14343.0</td>\n",
              "      <td>20480.0</td>\n",
              "      <td>20808.0</td>\n",
              "      <td>21375.0</td>\n",
              "      <td>21088.0</td>\n",
              "      <td>23026.0</td>\n",
              "      <td>16819.0</td>\n",
              "      <td>10548.0</td>\n",
              "      <td>12484.0</td>\n",
              "      <td>8517.0</td>\n",
              "    </tr>\n",
              "    <tr>\n",
              "      <th>2021-05-28</th>\n",
              "      <td>21514</td>\n",
              "      <td>21887.0</td>\n",
              "      <td>21830.0</td>\n",
              "      <td>24088.0</td>\n",
              "      <td>19768.0</td>\n",
              "      <td>12157.0</td>\n",
              "      <td>14343.0</td>\n",
              "      <td>20480.0</td>\n",
              "      <td>20808.0</td>\n",
              "      <td>21375.0</td>\n",
              "      <td>21088.0</td>\n",
              "      <td>23026.0</td>\n",
              "      <td>16819.0</td>\n",
              "      <td>10548.0</td>\n",
              "      <td>12484.0</td>\n",
              "    </tr>\n",
              "    <tr>\n",
              "      <th>2021-05-29</th>\n",
              "      <td>16780</td>\n",
              "      <td>21514.0</td>\n",
              "      <td>21887.0</td>\n",
              "      <td>21830.0</td>\n",
              "      <td>24088.0</td>\n",
              "      <td>19768.0</td>\n",
              "      <td>12157.0</td>\n",
              "      <td>14343.0</td>\n",
              "      <td>20480.0</td>\n",
              "      <td>20808.0</td>\n",
              "      <td>21375.0</td>\n",
              "      <td>21088.0</td>\n",
              "      <td>23026.0</td>\n",
              "      <td>16819.0</td>\n",
              "      <td>10548.0</td>\n",
              "    </tr>\n",
              "    <tr>\n",
              "      <th>2021-05-30</th>\n",
              "      <td>19040</td>\n",
              "      <td>16780.0</td>\n",
              "      <td>21514.0</td>\n",
              "      <td>21887.0</td>\n",
              "      <td>21830.0</td>\n",
              "      <td>24088.0</td>\n",
              "      <td>19768.0</td>\n",
              "      <td>12157.0</td>\n",
              "      <td>14343.0</td>\n",
              "      <td>20480.0</td>\n",
              "      <td>20808.0</td>\n",
              "      <td>21375.0</td>\n",
              "      <td>21088.0</td>\n",
              "      <td>23026.0</td>\n",
              "      <td>16819.0</td>\n",
              "    </tr>\n",
              "    <tr>\n",
              "      <th>2021-05-31</th>\n",
              "      <td>11776</td>\n",
              "      <td>19040.0</td>\n",
              "      <td>16780.0</td>\n",
              "      <td>21514.0</td>\n",
              "      <td>21887.0</td>\n",
              "      <td>21830.0</td>\n",
              "      <td>24088.0</td>\n",
              "      <td>19768.0</td>\n",
              "      <td>12157.0</td>\n",
              "      <td>14343.0</td>\n",
              "      <td>20480.0</td>\n",
              "      <td>20808.0</td>\n",
              "      <td>21375.0</td>\n",
              "      <td>21088.0</td>\n",
              "      <td>23026.0</td>\n",
              "    </tr>\n",
              "  </tbody>\n",
              "</table>\n",
              "</div>\n",
              "      <button class=\"colab-df-convert\" onclick=\"convertToInteractive('df-4b904526-1b41-4411-a61e-d806775b171e')\"\n",
              "              title=\"Convert this dataframe to an interactive table.\"\n",
              "              style=\"display:none;\">\n",
              "        \n",
              "  <svg xmlns=\"http://www.w3.org/2000/svg\" height=\"24px\"viewBox=\"0 0 24 24\"\n",
              "       width=\"24px\">\n",
              "    <path d=\"M0 0h24v24H0V0z\" fill=\"none\"/>\n",
              "    <path d=\"M18.56 5.44l.94 2.06.94-2.06 2.06-.94-2.06-.94-.94-2.06-.94 2.06-2.06.94zm-11 1L8.5 8.5l.94-2.06 2.06-.94-2.06-.94L8.5 2.5l-.94 2.06-2.06.94zm10 10l.94 2.06.94-2.06 2.06-.94-2.06-.94-.94-2.06-.94 2.06-2.06.94z\"/><path d=\"M17.41 7.96l-1.37-1.37c-.4-.4-.92-.59-1.43-.59-.52 0-1.04.2-1.43.59L10.3 9.45l-7.72 7.72c-.78.78-.78 2.05 0 2.83L4 21.41c.39.39.9.59 1.41.59.51 0 1.02-.2 1.41-.59l7.78-7.78 2.81-2.81c.8-.78.8-2.07 0-2.86zM5.41 20L4 18.59l7.72-7.72 1.47 1.35L5.41 20z\"/>\n",
              "  </svg>\n",
              "      </button>\n",
              "      \n",
              "  <style>\n",
              "    .colab-df-container {\n",
              "      display:flex;\n",
              "      flex-wrap:wrap;\n",
              "      gap: 12px;\n",
              "    }\n",
              "\n",
              "    .colab-df-convert {\n",
              "      background-color: #E8F0FE;\n",
              "      border: none;\n",
              "      border-radius: 50%;\n",
              "      cursor: pointer;\n",
              "      display: none;\n",
              "      fill: #1967D2;\n",
              "      height: 32px;\n",
              "      padding: 0 0 0 0;\n",
              "      width: 32px;\n",
              "    }\n",
              "\n",
              "    .colab-df-convert:hover {\n",
              "      background-color: #E2EBFA;\n",
              "      box-shadow: 0px 1px 2px rgba(60, 64, 67, 0.3), 0px 1px 3px 1px rgba(60, 64, 67, 0.15);\n",
              "      fill: #174EA6;\n",
              "    }\n",
              "\n",
              "    [theme=dark] .colab-df-convert {\n",
              "      background-color: #3B4455;\n",
              "      fill: #D2E3FC;\n",
              "    }\n",
              "\n",
              "    [theme=dark] .colab-df-convert:hover {\n",
              "      background-color: #434B5C;\n",
              "      box-shadow: 0px 1px 3px 1px rgba(0, 0, 0, 0.15);\n",
              "      filter: drop-shadow(0px 1px 2px rgba(0, 0, 0, 0.3));\n",
              "      fill: #FFFFFF;\n",
              "    }\n",
              "  </style>\n",
              "\n",
              "      <script>\n",
              "        const buttonEl =\n",
              "          document.querySelector('#df-4b904526-1b41-4411-a61e-d806775b171e button.colab-df-convert');\n",
              "        buttonEl.style.display =\n",
              "          google.colab.kernel.accessAllowed ? 'block' : 'none';\n",
              "\n",
              "        async function convertToInteractive(key) {\n",
              "          const element = document.querySelector('#df-4b904526-1b41-4411-a61e-d806775b171e');\n",
              "          const dataTable =\n",
              "            await google.colab.kernel.invokeFunction('convertToInteractive',\n",
              "                                                     [key], {});\n",
              "          if (!dataTable) return;\n",
              "\n",
              "          const docLinkHtml = 'Like what you see? Visit the ' +\n",
              "            '<a target=\"_blank\" href=https://colab.research.google.com/notebooks/data_table.ipynb>data table notebook</a>'\n",
              "            + ' to learn more about interactive tables.';\n",
              "          element.innerHTML = '';\n",
              "          dataTable['output_type'] = 'display_data';\n",
              "          await google.colab.output.renderOutput(dataTable, element);\n",
              "          const docLink = document.createElement('div');\n",
              "          docLink.innerHTML = docLinkHtml;\n",
              "          element.appendChild(docLink);\n",
              "        }\n",
              "      </script>\n",
              "    </div>\n",
              "  </div>\n",
              "  "
            ],
            "text/plain": [
              "            validation total     lag1     lag2  ...    lag12    lag13    lag14\n",
              "journée                                         ...                           \n",
              "2020-07-01             25309      0.0      0.0  ...      0.0      0.0      0.0\n",
              "2020-07-02             25618  25309.0      0.0  ...      0.0      0.0      0.0\n",
              "2020-07-03             24999  25618.0  25309.0  ...      0.0      0.0      0.0\n",
              "2020-07-04             15237  24999.0  25618.0  ...      0.0      0.0      0.0\n",
              "2020-07-05             14893  15237.0  24999.0  ...      0.0      0.0      0.0\n",
              "2021-05-27             21887  21830.0  24088.0  ...  10548.0  12484.0   8517.0\n",
              "2021-05-28             21514  21887.0  21830.0  ...  16819.0  10548.0  12484.0\n",
              "2021-05-29             16780  21514.0  21887.0  ...  23026.0  16819.0  10548.0\n",
              "2021-05-30             19040  16780.0  21514.0  ...  21088.0  23026.0  16819.0\n",
              "2021-05-31             11776  19040.0  16780.0  ...  21375.0  21088.0  23026.0\n",
              "\n",
              "[10 rows x 15 columns]"
            ]
          },
          "metadata": {},
          "execution_count": 150
        }
      ]
    },
    {
      "cell_type": "code",
      "source": [
        "# On transforme notre base pandas en base spark (ddf) pour pouvoir travailler sur pyspark\n",
        "ddf = spark.createDataFrame(lagged.reset_index(drop=False))"
      ],
      "metadata": {
        "id": "nR2_HVfMm5Gy"
      },
      "execution_count": null,
      "outputs": []
    },
    {
      "cell_type": "code",
      "source": [
        "ddf.printSchema()"
      ],
      "metadata": {
        "colab": {
          "base_uri": "https://localhost:8080/"
        },
        "id": "cwf-xossBUAp",
        "outputId": "d7e6721e-d5ab-428f-96e0-8040f787a4c8"
      },
      "execution_count": null,
      "outputs": [
        {
          "output_type": "stream",
          "name": "stdout",
          "text": [
            "root\n",
            " |-- journée: timestamp (nullable = true)\n",
            " |-- validation total: long (nullable = true)\n",
            " |-- lag1: double (nullable = true)\n",
            " |-- lag2: double (nullable = true)\n",
            " |-- lag3: double (nullable = true)\n",
            " |-- lag4: double (nullable = true)\n",
            " |-- lag5: double (nullable = true)\n",
            " |-- lag6: double (nullable = true)\n",
            " |-- lag7: double (nullable = true)\n",
            " |-- lag8: double (nullable = true)\n",
            " |-- lag9: double (nullable = true)\n",
            " |-- lag10: double (nullable = true)\n",
            " |-- lag11: double (nullable = true)\n",
            " |-- lag12: double (nullable = true)\n",
            " |-- lag13: double (nullable = true)\n",
            " |-- lag14: double (nullable = true)\n",
            "\n"
          ]
        }
      ]
    },
    {
      "cell_type": "code",
      "source": [
        "from pyspark.sql import Window\n",
        "from pyspark.ml.linalg import Vector\n",
        "from pyspark.ml.pipeline import Pipeline\n",
        "from pyspark.ml.feature import VectorAssembler\n",
        "\n",
        "vectorAssembler = VectorAssembler(inputCols= ['lag1','lag2','lag3','lag4','lag5','lag6','lag7','lag8','lag9','lag10','lag11','lag12','lag13','lag14'],\n",
        "    outputCol=\"features\")\n",
        "#print(assembler)"
      ],
      "metadata": {
        "id": "TQKKbUWoDwJM"
      },
      "execution_count": null,
      "outputs": []
    },
    {
      "cell_type": "code",
      "source": [
        "pipeline = Pipeline(stages = [vectorAssembler])\n",
        "validation_pipe=pipeline.fit(ddf).transform(ddf)\n",
        "data= validation_pipe.select(['features','validation total'])\n"
      ],
      "metadata": {
        "id": "UKAAWdLxH4W9"
      },
      "execution_count": null,
      "outputs": []
    },
    {
      "cell_type": "markdown",
      "source": [
        "**la constitution d'un ensemble d'apprentissage et de test**"
      ],
      "metadata": {
        "id": "MDmn4d5fiXJl"
      }
    },
    {
      "cell_type": "code",
      "source": [
        "train , test =data.randomSplit([0.7,0.3])"
      ],
      "metadata": {
        "id": "XP_OE0k6iTvF"
      },
      "execution_count": null,
      "outputs": []
    },
    {
      "cell_type": "markdown",
      "source": [
        "**l'entrainement d'un modèle**"
      ],
      "metadata": {
        "id": "y5TDtV1Eilp9"
      }
    },
    {
      "cell_type": "code",
      "source": [
        "from pyspark.ml.regression import LinearRegression\n",
        "\n",
        "linreg = LinearRegression(featuresCol ='features', labelCol='validation total')\n",
        "linear_model = linreg.fit(train)"
      ],
      "metadata": {
        "id": "j4q4cmoOwxqh"
      },
      "execution_count": null,
      "outputs": []
    },
    {
      "cell_type": "code",
      "source": [
        "trainingSummary = linear_model.summary\n",
        "print(\"RMSE: %f\" % trainingSummary.rootMeanSquaredError)\n",
        "print(\"r2: %f\" % trainingSummary.r2)\n"
      ],
      "metadata": {
        "colab": {
          "base_uri": "https://localhost:8080/"
        },
        "id": "-VyWjxgSQDh4",
        "outputId": "e8f76f05-7d32-4135-e2a5-9c75ccdf19d2"
      },
      "execution_count": null,
      "outputs": [
        {
          "output_type": "stream",
          "name": "stdout",
          "text": [
            "RMSE: 2740.706267\n",
            "r2: 0.856237\n"
          ]
        }
      ]
    },
    {
      "cell_type": "code",
      "source": [
        "lr_predictions = linear_model.transform(test)\n",
        "lr_predictions.select(\"prediction\",\"validation total\",\"features\").show(7)\n"
      ],
      "metadata": {
        "colab": {
          "base_uri": "https://localhost:8080/"
        },
        "id": "w-7638qrQyi_",
        "outputId": "53448bcc-4565-4b9b-87e6-d20c8aa9766b"
      },
      "execution_count": null,
      "outputs": [
        {
          "output_type": "stream",
          "name": "stdout",
          "text": [
            "+------------------+----------------+--------------------+\n",
            "|        prediction|validation total|            features|\n",
            "+------------------+----------------+--------------------+\n",
            "|1347.7443253648908|           25309|          (14,[],[])|\n",
            "| 21064.46332917812|           15237|(14,[0,1,2],[2499...|\n",
            "|  24290.3203059765|           27171|(14,[0,1,2,3,4,5]...|\n",
            "|11454.872068843162|           12446|[3706.0,4663.0,11...|\n",
            "|3512.5883380856944|            2852|[3762.0,10867.0,1...|\n",
            "| 4975.726713519962|            3762|[10867.0,11212.0,...|\n",
            "|15922.931068109085|           11957|[10984.0,12203.0,...|\n",
            "+------------------+----------------+--------------------+\n",
            "only showing top 7 rows\n",
            "\n"
          ]
        }
      ]
    },
    {
      "cell_type": "markdown",
      "source": [
        "**le mesure de la performance du modèle : RMSE**"
      ],
      "metadata": {
        "id": "O5jumoXIi7wI"
      }
    },
    {
      "cell_type": "code",
      "source": [
        "test_result = linear_model.evaluate(test)\n",
        "print(\"Root Mean Squared Error (RMSE) on test data = %g\" % test_result.rootMeanSquaredError)\n"
      ],
      "metadata": {
        "colab": {
          "base_uri": "https://localhost:8080/"
        },
        "id": "JFEJbvEyRHUP",
        "outputId": "574f4241-f154-48e7-fd9f-204c9f265eb9"
      },
      "execution_count": null,
      "outputs": [
        {
          "output_type": "stream",
          "name": "stdout",
          "text": [
            "Root Mean Squared Error (RMSE) on test data = 3567.72\n"
          ]
        }
      ]
    },
    {
      "cell_type": "markdown",
      "metadata": {
        "id": "qBMKn6rmDREr"
      },
      "source": [
        "## Amélioration du modèle\n",
        "\n",
        "Discuter des façons d'améliorer cette première version du modèle."
      ]
    },
    {
      "cell_type": "markdown",
      "metadata": {
        "id": "mdse1jBVDcR-"
      },
      "source": [
        "Pour ameliorer le modele nous pouvons utiliser STL boosté par un lissage exponentiel , un modele ARIMA et lissage exponentiel boostés avec GBDT ou \n",
        "Un ensemble de modele hybrides empilés et renforcés ou un Lissage exponentiel empilé avec un réseau neuronal LSTM .On peut aussi  utiliser la moyenne glissante( sur 7 jours par exemple)  afin de reduire la variabilité de nos series ,nous utiliserons cette derniere methode afin d'ameliorer notre modele.\n"
      ]
    },
    {
      "cell_type": "markdown",
      "metadata": {
        "id": "dqLJ6mndDkEk"
      },
      "source": [
        "## OPTION : implémentation des améliorations\n",
        "\n",
        "Implémenter tout ou partir des suggestions d'amélioration.\n",
        "\n",
        "**Cette partie est facultative et sera bonifiante si les éléments contribués sont probants.**"
      ]
    },
    {
      "cell_type": "markdown",
      "source": [
        "**on va implementer un modele avec la moyenne glissante**"
      ],
      "metadata": {
        "id": "l6KFfjnmViF8"
      }
    },
    {
      "cell_type": "code",
      "source": [
        "#validations_ddf5 = validations_ddf3.withColumn('semaine', F.weekofyear(F.col('jour')))\n",
        "#dff = validations_ddf5.withColumn('rolling_average', F.avg(\"nb_vald\").over(Window.partitionBy(F.col(\"categorie_titre\"),F.window(\"jour\", \"7 days\"))))\n"
      ],
      "metadata": {
        "id": "5JOtsz_QVfIT"
      },
      "execution_count": null,
      "outputs": []
    },
    {
      "cell_type": "markdown",
      "source": [
        "on utilise notre de table issues de la question de la moyenne mobile les codes sont ci-dessous:\n"
      ],
      "metadata": {
        "id": "KeEvQd27mKt0"
      }
    },
    {
      "cell_type": "code",
      "metadata": {
        "id": "YlhwO0DEDM37",
        "colab": {
          "base_uri": "https://localhost:8080/"
        },
        "outputId": "a512dea2-4e28-4964-e698-f8f5a728de88"
      },
      "source": [
        "#base_issus de la moyenne mobile\n",
        "dff.show()"
      ],
      "execution_count": null,
      "outputs": [
        {
          "output_type": "stream",
          "name": "stdout",
          "text": [
            "+----------+--------------+-------------+---------------+--------------------+-----------+---------------+-------+-------+------------------+\n",
            "|      jour|code_stif_trns|code_stif_res|code_stif_arret|       libelle_arret|id_refa_lda|categorie_titre|nb_vald|semaine|   rolling_average|\n",
            "+----------+--------------+-------------+---------------+--------------------+-----------+---------------+-------+-------+------------------+\n",
            "|2020-07-15|           800|          803|            335|     GRAVIGNY-BALIZY|      62667|      IMAGINE R|      2|     29|469.20566935650737|\n",
            "|2020-07-15|           800|          803|            380|       JOUY-EN-JOSAS|      63523|      IMAGINE R|     35|     29|469.20566935650737|\n",
            "|2020-07-15|           800|          803|            385|              JUVISY|      62737|      IMAGINE R|   1880|     29|469.20566935650737|\n",
            "|2020-07-15|           800|          803|             41|         AVENUE FOCH|      73795|      IMAGINE R|     91|     29|469.20566935650737|\n",
            "|2020-07-15|           800|          803|            424|               LARDY|      59761|      IMAGINE R|     50|     29|469.20566935650737|\n",
            "|2020-07-15|           800|          803|            444|        LES ARDOINES|      70064|      IMAGINE R|    117|     29|469.20566935650737|\n",
            "|2020-07-15|           800|          803|            522|     MASSY-PALAISEAU|      63244|      IMAGINE R|    326|     29|469.20566935650737|\n",
            "|2020-07-15|           800|          803|             57|    BOULEVARD VICTOR|      74002|      IMAGINE R|    147|     29|469.20566935650737|\n",
            "|2020-07-15|           800|          803|            679|      PORCHEFONTAINE|      63886|      IMAGINE R|     75|     29|469.20566935650737|\n",
            "|2020-07-15|           800|          803|            825|SAINT-MARTIN-D'ET...|      59531|      IMAGINE R|     30|     29|469.20566935650737|\n",
            "|2020-07-15|           800|          803|            874|            VAUBOYEN|      63454|      IMAGINE R|     26|     29|469.20566935650737|\n",
            "|2020-07-15|           800|          803|            899|   VILLENEUVE-LE-ROI|      69625|      IMAGINE R|    148|     29|469.20566935650737|\n",
            "|2020-07-15|           800|          803|            918|     VITRY-SUR-SEINE|      70313|      IMAGINE R|    206|     29|469.20566935650737|\n",
            "|2020-07-15|           800|          804|            196|COMBS-LA-VILLE-QU...|      62558|      IMAGINE R|    469|     29|469.20566935650737|\n",
            "|2020-07-15|           800|          804|            270|   ESSONNES-ROBINSON|      60234|      IMAGINE R|     13|     29|469.20566935650737|\n",
            "|2020-07-15|           800|          804|            307|        GARE DE LYON|      73626|      IMAGINE R|    343|     29|469.20566935650737|\n",
            "|2020-07-15|           800|          804|            503|              MAISSE|      59470|      IMAGINE R|     15|     29|469.20566935650737|\n",
            "|2020-07-15|           800|          804|            556|    MONTGERON-CROSNE|      63072|      IMAGINE R|    115|     29|469.20566935650737|\n",
            "|2020-07-15|           800|          804|            740|         RIS-ORANGIS|      60839|      IMAGINE R|     57|     29|469.20566935650737|\n",
            "|2020-07-15|           800|          804|            845|  SURVILLIERS-FOSSES|      69450|      IMAGINE R|    247|     29|469.20566935650737|\n",
            "+----------+--------------+-------------+---------------+--------------------+-----------+---------------+-------+-------+------------------+\n",
            "only showing top 20 rows\n",
            "\n"
          ]
        }
      ]
    },
    {
      "cell_type": "code",
      "source": [
        "data_Am= dff.filter(dff.libelle_arret ==\"GARE DE LYON\").orderBy('jour')\n"
      ],
      "metadata": {
        "id": "QoTwhLFklLY3"
      },
      "execution_count": null,
      "outputs": []
    },
    {
      "cell_type": "code",
      "source": [
        "data_Am.show(10)"
      ],
      "metadata": {
        "colab": {
          "base_uri": "https://localhost:8080/"
        },
        "id": "y4BJ7Lxklbx-",
        "outputId": "b988ec78-9875-4e57-b709-9e72df67beb9"
      },
      "execution_count": null,
      "outputs": [
        {
          "output_type": "stream",
          "name": "stdout",
          "text": [
            "+----------+--------------+-------------+---------------+-------------+-----------+---------------+-------+-------+------------------+\n",
            "|      jour|code_stif_trns|code_stif_res|code_stif_arret|libelle_arret|id_refa_lda|categorie_titre|nb_vald|semaine|   rolling_average|\n",
            "+----------+--------------+-------------+---------------+-------------+-----------+---------------+-------+-------+------------------+\n",
            "|2020-07-01|           810|          801|            306| GARE DE LYON|      73626|         NAVIGO|   8545|     27|1419.5019888623708|\n",
            "|2020-07-01|           800|          804|            307| GARE DE LYON|      73626|      IMAGINE R|    509|     27| 599.0667613636364|\n",
            "|2020-07-01|           800|          804|            307| GARE DE LYON|      73626|         NAVIGO|     33|     27|1419.5019888623708|\n",
            "|2020-07-01|           810|          801|            306| GARE DE LYON|      73626|         NAVIGO|     45|     27|1419.5019888623708|\n",
            "|2020-07-01|           800|          804|            307| GARE DE LYON|      73626|         NAVIGO|   2732|     27|1419.5019888623708|\n",
            "|2020-07-01|           810|          801|            306| GARE DE LYON|      73626|      IMAGINE R|   2288|     27| 599.0667613636364|\n",
            "|2020-07-01|           100|          110|            317| GARE DE LYON|      73626|         NAVIGO|   9001|     27|1419.5019888623708|\n",
            "|2020-07-01|           100|          110|            317| GARE DE LYON|      73626|         NAVIGO|     41|     27|1419.5019888623708|\n",
            "|2020-07-01|           100|          110|            317| GARE DE LYON|      73626|      IMAGINE R|   2115|     27| 599.0667613636364|\n",
            "|2020-07-02|           810|          801|            306| GARE DE LYON|      73626|         NAVIGO|     52|     27|1307.9559522429581|\n",
            "+----------+--------------+-------------+---------------+-------------+-----------+---------------+-------+-------+------------------+\n",
            "only showing top 10 rows\n",
            "\n"
          ]
        }
      ]
    },
    {
      "cell_type": "code",
      "source": [
        "data_Am"
      ],
      "metadata": {
        "colab": {
          "base_uri": "https://localhost:8080/"
        },
        "id": "04duAC9AmsMF",
        "outputId": "cdf2201f-a644-47f1-d729-072806a0ab8e"
      },
      "execution_count": null,
      "outputs": [
        {
          "output_type": "execute_result",
          "data": {
            "text/plain": [
              "DataFrame[jour: date, code_stif_trns: int, code_stif_res: string, code_stif_arret: string, libelle_arret: string, id_refa_lda: string, categorie_titre: string, nb_vald: int, semaine: int, rolling_average: double]"
            ]
          },
          "metadata": {},
          "execution_count": 164
        }
      ]
    },
    {
      "cell_type": "code",
      "source": [
        "data_Am1=(data_Am\n",
        " #.filter(~fun.isnull(fun.col(\"nb_vald\")))\n",
        " .filter(data_Am.libelle_arret ==\"GARE DE LYON\")\n",
        " .where((data_Am.categorie_titre ==\"NAVIGO\") | (data_Am.categorie_titre ==\"IMAGINE R\"))\n",
        " .withColumn(\"journée\", fun.date_trunc(\"day\", fun.col(\"jour\")))\n",
        " .groupBy([\"journée\",\"categorie_titre\"])\n",
        " .agg(fun.avg(\"rolling_average\").alias(\"rolling total\"))\n",
        " .orderBy(\"journée\")\n",
        " )"
      ],
      "metadata": {
        "id": "53eeKRyUqItB"
      },
      "execution_count": null,
      "outputs": []
    },
    {
      "cell_type": "code",
      "source": [
        "data_Am1.show()"
      ],
      "metadata": {
        "colab": {
          "base_uri": "https://localhost:8080/"
        },
        "id": "xT_brRfQtmJX",
        "outputId": "4c9c2490-6edc-45c0-bbf9-c1bf9a59cfc7"
      },
      "execution_count": null,
      "outputs": [
        {
          "output_type": "stream",
          "name": "stdout",
          "text": [
            "+-------------------+---------------+------------------+\n",
            "|            journée|categorie_titre|     rolling total|\n",
            "+-------------------+---------------+------------------+\n",
            "|2020-07-01 00:00:00|      IMAGINE R| 599.0667613636364|\n",
            "|2020-07-01 00:00:00|         NAVIGO|1419.5019888623708|\n",
            "|2020-07-02 00:00:00|         NAVIGO|1307.9559522429581|\n",
            "|2020-07-02 00:00:00|      IMAGINE R| 545.0030450669915|\n",
            "|2020-07-03 00:00:00|      IMAGINE R| 545.0030450669915|\n",
            "|2020-07-03 00:00:00|         NAVIGO|1307.9559522429581|\n",
            "|2020-07-04 00:00:00|         NAVIGO|1307.9559522429581|\n",
            "|2020-07-04 00:00:00|      IMAGINE R| 545.0030450669915|\n",
            "|2020-07-05 00:00:00|      IMAGINE R| 545.0030450669915|\n",
            "|2020-07-05 00:00:00|         NAVIGO|1307.9559522429581|\n",
            "|2020-07-06 00:00:00|      IMAGINE R| 545.0030450669915|\n",
            "|2020-07-06 00:00:00|         NAVIGO|1307.9559522429581|\n",
            "|2020-07-07 00:00:00|      IMAGINE R| 545.0030450669915|\n",
            "|2020-07-07 00:00:00|         NAVIGO|1307.9559522429581|\n",
            "|2020-07-08 00:00:00|      IMAGINE R| 545.0030450669915|\n",
            "|2020-07-08 00:00:00|         NAVIGO|1307.9559522429581|\n",
            "|2020-07-09 00:00:00|         NAVIGO|1138.0199251298152|\n",
            "|2020-07-09 00:00:00|      IMAGINE R|469.20566935650737|\n",
            "|2020-07-10 00:00:00|         NAVIGO|1138.0199251298152|\n",
            "|2020-07-10 00:00:00|      IMAGINE R|469.20566935650737|\n",
            "+-------------------+---------------+------------------+\n",
            "only showing top 20 rows\n",
            "\n"
          ]
        }
      ]
    },
    {
      "cell_type": "code",
      "source": [
        "# grouper les validations par jour\n",
        "data_Am2=(data_Am1\n",
        " .groupBy([\"journée\"])\n",
        " .agg(fun.sum(\"rolling total\").alias(\"validation_total_MV\"))\n",
        " .orderBy(\"journée\")).toPandas().set_index([\"journée\"])\n",
        " "
      ],
      "metadata": {
        "id": "mCFocvoPs1b7"
      },
      "execution_count": null,
      "outputs": []
    },
    {
      "cell_type": "code",
      "source": [
        "# determination des retards\n",
        "lag = 14\n",
        "X = lagmat(data_Am2[\"validation_total_MV\"], lag)\n",
        "lagged = data_Am2.copy()\n",
        "for c in range(1, lag +1):\n",
        "  lagged[\"lag%d\" % c] = X[:, c-1]\n",
        "\n",
        "pd.concat([lagged.head(),lagged.tail()]) "
      ],
      "metadata": {
        "colab": {
          "base_uri": "https://localhost:8080/",
          "height": 632
        },
        "id": "51K_pRfJtJtt",
        "outputId": "a625560b-66ce-443a-c19c-3d3072dc365f"
      },
      "execution_count": null,
      "outputs": [
        {
          "output_type": "execute_result",
          "data": {
            "text/html": [
              "\n",
              "  <div id=\"df-5d8e9310-b087-4ec0-9525-651a47cb8c6f\">\n",
              "    <div class=\"colab-df-container\">\n",
              "      <div>\n",
              "<style scoped>\n",
              "    .dataframe tbody tr th:only-of-type {\n",
              "        vertical-align: middle;\n",
              "    }\n",
              "\n",
              "    .dataframe tbody tr th {\n",
              "        vertical-align: top;\n",
              "    }\n",
              "\n",
              "    .dataframe thead th {\n",
              "        text-align: right;\n",
              "    }\n",
              "</style>\n",
              "<table border=\"1\" class=\"dataframe\">\n",
              "  <thead>\n",
              "    <tr style=\"text-align: right;\">\n",
              "      <th></th>\n",
              "      <th>validation_total_MV</th>\n",
              "      <th>lag1</th>\n",
              "      <th>lag2</th>\n",
              "      <th>lag3</th>\n",
              "      <th>lag4</th>\n",
              "      <th>lag5</th>\n",
              "      <th>lag6</th>\n",
              "      <th>lag7</th>\n",
              "      <th>lag8</th>\n",
              "      <th>lag9</th>\n",
              "      <th>lag10</th>\n",
              "      <th>lag11</th>\n",
              "      <th>lag12</th>\n",
              "      <th>lag13</th>\n",
              "      <th>lag14</th>\n",
              "    </tr>\n",
              "    <tr>\n",
              "      <th>journée</th>\n",
              "      <th></th>\n",
              "      <th></th>\n",
              "      <th></th>\n",
              "      <th></th>\n",
              "      <th></th>\n",
              "      <th></th>\n",
              "      <th></th>\n",
              "      <th></th>\n",
              "      <th></th>\n",
              "      <th></th>\n",
              "      <th></th>\n",
              "      <th></th>\n",
              "      <th></th>\n",
              "      <th></th>\n",
              "      <th></th>\n",
              "    </tr>\n",
              "  </thead>\n",
              "  <tbody>\n",
              "    <tr>\n",
              "      <th>2020-07-01</th>\n",
              "      <td>2018.568750</td>\n",
              "      <td>0.000000</td>\n",
              "      <td>0.000000</td>\n",
              "      <td>0.000000</td>\n",
              "      <td>0.000000</td>\n",
              "      <td>0.000000</td>\n",
              "      <td>0.000000</td>\n",
              "      <td>0.000000</td>\n",
              "      <td>0.000000</td>\n",
              "      <td>0.000000</td>\n",
              "      <td>0.000000</td>\n",
              "      <td>0.000000</td>\n",
              "      <td>0.000000</td>\n",
              "      <td>0.000000</td>\n",
              "      <td>0.000000</td>\n",
              "    </tr>\n",
              "    <tr>\n",
              "      <th>2020-07-02</th>\n",
              "      <td>1852.958997</td>\n",
              "      <td>2018.568750</td>\n",
              "      <td>0.000000</td>\n",
              "      <td>0.000000</td>\n",
              "      <td>0.000000</td>\n",
              "      <td>0.000000</td>\n",
              "      <td>0.000000</td>\n",
              "      <td>0.000000</td>\n",
              "      <td>0.000000</td>\n",
              "      <td>0.000000</td>\n",
              "      <td>0.000000</td>\n",
              "      <td>0.000000</td>\n",
              "      <td>0.000000</td>\n",
              "      <td>0.000000</td>\n",
              "      <td>0.000000</td>\n",
              "    </tr>\n",
              "    <tr>\n",
              "      <th>2020-07-03</th>\n",
              "      <td>1852.958997</td>\n",
              "      <td>1852.958997</td>\n",
              "      <td>2018.568750</td>\n",
              "      <td>0.000000</td>\n",
              "      <td>0.000000</td>\n",
              "      <td>0.000000</td>\n",
              "      <td>0.000000</td>\n",
              "      <td>0.000000</td>\n",
              "      <td>0.000000</td>\n",
              "      <td>0.000000</td>\n",
              "      <td>0.000000</td>\n",
              "      <td>0.000000</td>\n",
              "      <td>0.000000</td>\n",
              "      <td>0.000000</td>\n",
              "      <td>0.000000</td>\n",
              "    </tr>\n",
              "    <tr>\n",
              "      <th>2020-07-04</th>\n",
              "      <td>1852.958997</td>\n",
              "      <td>1852.958997</td>\n",
              "      <td>1852.958997</td>\n",
              "      <td>2018.568750</td>\n",
              "      <td>0.000000</td>\n",
              "      <td>0.000000</td>\n",
              "      <td>0.000000</td>\n",
              "      <td>0.000000</td>\n",
              "      <td>0.000000</td>\n",
              "      <td>0.000000</td>\n",
              "      <td>0.000000</td>\n",
              "      <td>0.000000</td>\n",
              "      <td>0.000000</td>\n",
              "      <td>0.000000</td>\n",
              "      <td>0.000000</td>\n",
              "    </tr>\n",
              "    <tr>\n",
              "      <th>2020-07-05</th>\n",
              "      <td>1852.958997</td>\n",
              "      <td>1852.958997</td>\n",
              "      <td>1852.958997</td>\n",
              "      <td>1852.958997</td>\n",
              "      <td>2018.568750</td>\n",
              "      <td>0.000000</td>\n",
              "      <td>0.000000</td>\n",
              "      <td>0.000000</td>\n",
              "      <td>0.000000</td>\n",
              "      <td>0.000000</td>\n",
              "      <td>0.000000</td>\n",
              "      <td>0.000000</td>\n",
              "      <td>0.000000</td>\n",
              "      <td>0.000000</td>\n",
              "      <td>0.000000</td>\n",
              "    </tr>\n",
              "    <tr>\n",
              "      <th>2021-05-27</th>\n",
              "      <td>2753.136766</td>\n",
              "      <td>2576.710473</td>\n",
              "      <td>2576.710473</td>\n",
              "      <td>2576.710473</td>\n",
              "      <td>2576.710473</td>\n",
              "      <td>2576.710473</td>\n",
              "      <td>2576.710473</td>\n",
              "      <td>2576.710473</td>\n",
              "      <td>2026.516228</td>\n",
              "      <td>2026.516228</td>\n",
              "      <td>2026.516228</td>\n",
              "      <td>2026.516228</td>\n",
              "      <td>2026.516228</td>\n",
              "      <td>2026.516228</td>\n",
              "      <td>2026.516228</td>\n",
              "    </tr>\n",
              "    <tr>\n",
              "      <th>2021-05-28</th>\n",
              "      <td>2753.136766</td>\n",
              "      <td>2753.136766</td>\n",
              "      <td>2576.710473</td>\n",
              "      <td>2576.710473</td>\n",
              "      <td>2576.710473</td>\n",
              "      <td>2576.710473</td>\n",
              "      <td>2576.710473</td>\n",
              "      <td>2576.710473</td>\n",
              "      <td>2576.710473</td>\n",
              "      <td>2026.516228</td>\n",
              "      <td>2026.516228</td>\n",
              "      <td>2026.516228</td>\n",
              "      <td>2026.516228</td>\n",
              "      <td>2026.516228</td>\n",
              "      <td>2026.516228</td>\n",
              "    </tr>\n",
              "    <tr>\n",
              "      <th>2021-05-29</th>\n",
              "      <td>2753.136766</td>\n",
              "      <td>2753.136766</td>\n",
              "      <td>2753.136766</td>\n",
              "      <td>2576.710473</td>\n",
              "      <td>2576.710473</td>\n",
              "      <td>2576.710473</td>\n",
              "      <td>2576.710473</td>\n",
              "      <td>2576.710473</td>\n",
              "      <td>2576.710473</td>\n",
              "      <td>2576.710473</td>\n",
              "      <td>2026.516228</td>\n",
              "      <td>2026.516228</td>\n",
              "      <td>2026.516228</td>\n",
              "      <td>2026.516228</td>\n",
              "      <td>2026.516228</td>\n",
              "    </tr>\n",
              "    <tr>\n",
              "      <th>2021-05-30</th>\n",
              "      <td>2753.136766</td>\n",
              "      <td>2753.136766</td>\n",
              "      <td>2753.136766</td>\n",
              "      <td>2753.136766</td>\n",
              "      <td>2576.710473</td>\n",
              "      <td>2576.710473</td>\n",
              "      <td>2576.710473</td>\n",
              "      <td>2576.710473</td>\n",
              "      <td>2576.710473</td>\n",
              "      <td>2576.710473</td>\n",
              "      <td>2576.710473</td>\n",
              "      <td>2026.516228</td>\n",
              "      <td>2026.516228</td>\n",
              "      <td>2026.516228</td>\n",
              "      <td>2026.516228</td>\n",
              "    </tr>\n",
              "    <tr>\n",
              "      <th>2021-05-31</th>\n",
              "      <td>2753.136766</td>\n",
              "      <td>2753.136766</td>\n",
              "      <td>2753.136766</td>\n",
              "      <td>2753.136766</td>\n",
              "      <td>2753.136766</td>\n",
              "      <td>2576.710473</td>\n",
              "      <td>2576.710473</td>\n",
              "      <td>2576.710473</td>\n",
              "      <td>2576.710473</td>\n",
              "      <td>2576.710473</td>\n",
              "      <td>2576.710473</td>\n",
              "      <td>2576.710473</td>\n",
              "      <td>2026.516228</td>\n",
              "      <td>2026.516228</td>\n",
              "      <td>2026.516228</td>\n",
              "    </tr>\n",
              "  </tbody>\n",
              "</table>\n",
              "</div>\n",
              "      <button class=\"colab-df-convert\" onclick=\"convertToInteractive('df-5d8e9310-b087-4ec0-9525-651a47cb8c6f')\"\n",
              "              title=\"Convert this dataframe to an interactive table.\"\n",
              "              style=\"display:none;\">\n",
              "        \n",
              "  <svg xmlns=\"http://www.w3.org/2000/svg\" height=\"24px\"viewBox=\"0 0 24 24\"\n",
              "       width=\"24px\">\n",
              "    <path d=\"M0 0h24v24H0V0z\" fill=\"none\"/>\n",
              "    <path d=\"M18.56 5.44l.94 2.06.94-2.06 2.06-.94-2.06-.94-.94-2.06-.94 2.06-2.06.94zm-11 1L8.5 8.5l.94-2.06 2.06-.94-2.06-.94L8.5 2.5l-.94 2.06-2.06.94zm10 10l.94 2.06.94-2.06 2.06-.94-2.06-.94-.94-2.06-.94 2.06-2.06.94z\"/><path d=\"M17.41 7.96l-1.37-1.37c-.4-.4-.92-.59-1.43-.59-.52 0-1.04.2-1.43.59L10.3 9.45l-7.72 7.72c-.78.78-.78 2.05 0 2.83L4 21.41c.39.39.9.59 1.41.59.51 0 1.02-.2 1.41-.59l7.78-7.78 2.81-2.81c.8-.78.8-2.07 0-2.86zM5.41 20L4 18.59l7.72-7.72 1.47 1.35L5.41 20z\"/>\n",
              "  </svg>\n",
              "      </button>\n",
              "      \n",
              "  <style>\n",
              "    .colab-df-container {\n",
              "      display:flex;\n",
              "      flex-wrap:wrap;\n",
              "      gap: 12px;\n",
              "    }\n",
              "\n",
              "    .colab-df-convert {\n",
              "      background-color: #E8F0FE;\n",
              "      border: none;\n",
              "      border-radius: 50%;\n",
              "      cursor: pointer;\n",
              "      display: none;\n",
              "      fill: #1967D2;\n",
              "      height: 32px;\n",
              "      padding: 0 0 0 0;\n",
              "      width: 32px;\n",
              "    }\n",
              "\n",
              "    .colab-df-convert:hover {\n",
              "      background-color: #E2EBFA;\n",
              "      box-shadow: 0px 1px 2px rgba(60, 64, 67, 0.3), 0px 1px 3px 1px rgba(60, 64, 67, 0.15);\n",
              "      fill: #174EA6;\n",
              "    }\n",
              "\n",
              "    [theme=dark] .colab-df-convert {\n",
              "      background-color: #3B4455;\n",
              "      fill: #D2E3FC;\n",
              "    }\n",
              "\n",
              "    [theme=dark] .colab-df-convert:hover {\n",
              "      background-color: #434B5C;\n",
              "      box-shadow: 0px 1px 3px 1px rgba(0, 0, 0, 0.15);\n",
              "      filter: drop-shadow(0px 1px 2px rgba(0, 0, 0, 0.3));\n",
              "      fill: #FFFFFF;\n",
              "    }\n",
              "  </style>\n",
              "\n",
              "      <script>\n",
              "        const buttonEl =\n",
              "          document.querySelector('#df-5d8e9310-b087-4ec0-9525-651a47cb8c6f button.colab-df-convert');\n",
              "        buttonEl.style.display =\n",
              "          google.colab.kernel.accessAllowed ? 'block' : 'none';\n",
              "\n",
              "        async function convertToInteractive(key) {\n",
              "          const element = document.querySelector('#df-5d8e9310-b087-4ec0-9525-651a47cb8c6f');\n",
              "          const dataTable =\n",
              "            await google.colab.kernel.invokeFunction('convertToInteractive',\n",
              "                                                     [key], {});\n",
              "          if (!dataTable) return;\n",
              "\n",
              "          const docLinkHtml = 'Like what you see? Visit the ' +\n",
              "            '<a target=\"_blank\" href=https://colab.research.google.com/notebooks/data_table.ipynb>data table notebook</a>'\n",
              "            + ' to learn more about interactive tables.';\n",
              "          element.innerHTML = '';\n",
              "          dataTable['output_type'] = 'display_data';\n",
              "          await google.colab.output.renderOutput(dataTable, element);\n",
              "          const docLink = document.createElement('div');\n",
              "          docLink.innerHTML = docLinkHtml;\n",
              "          element.appendChild(docLink);\n",
              "        }\n",
              "      </script>\n",
              "    </div>\n",
              "  </div>\n",
              "  "
            ],
            "text/plain": [
              "            validation_total_MV         lag1  ...        lag13        lag14\n",
              "journée                                       ...                          \n",
              "2020-07-01          2018.568750     0.000000  ...     0.000000     0.000000\n",
              "2020-07-02          1852.958997  2018.568750  ...     0.000000     0.000000\n",
              "2020-07-03          1852.958997  1852.958997  ...     0.000000     0.000000\n",
              "2020-07-04          1852.958997  1852.958997  ...     0.000000     0.000000\n",
              "2020-07-05          1852.958997  1852.958997  ...     0.000000     0.000000\n",
              "2021-05-27          2753.136766  2576.710473  ...  2026.516228  2026.516228\n",
              "2021-05-28          2753.136766  2753.136766  ...  2026.516228  2026.516228\n",
              "2021-05-29          2753.136766  2753.136766  ...  2026.516228  2026.516228\n",
              "2021-05-30          2753.136766  2753.136766  ...  2026.516228  2026.516228\n",
              "2021-05-31          2753.136766  2753.136766  ...  2026.516228  2026.516228\n",
              "\n",
              "[10 rows x 15 columns]"
            ]
          },
          "metadata": {},
          "execution_count": 168
        }
      ]
    },
    {
      "cell_type": "code",
      "source": [
        "# On transforme notre base pandas en base spark (ddf) pour pouvoir travailler sur pyspark\n",
        "ddf = spark.createDataFrame(lagged.reset_index(drop=False))"
      ],
      "metadata": {
        "id": "Tb2whQGNvlqM"
      },
      "execution_count": null,
      "outputs": []
    },
    {
      "cell_type": "markdown",
      "source": [
        "**Modelisation : features**"
      ],
      "metadata": {
        "id": "zx8EZWBZLDT0"
      }
    },
    {
      "cell_type": "code",
      "source": [
        "vectorAssembler = VectorAssembler(inputCols= ['lag1','lag2','lag3','lag4','lag5','lag6','lag7','lag8','lag9','lag10','lag11','lag12','lag13','lag14'],\n",
        "    outputCol=\"features\")\n",
        "#print(assembler)"
      ],
      "metadata": {
        "id": "AIIKOVjXvqf6"
      },
      "execution_count": null,
      "outputs": []
    },
    {
      "cell_type": "code",
      "source": [
        "pipeline = Pipeline(stages = [vectorAssembler])\n",
        "validation_pipe=pipeline.fit(ddf).transform(ddf)\n",
        "data= validation_pipe.select(['features','validation_total_MV'])"
      ],
      "metadata": {
        "id": "0r-Ejc7JvqcZ"
      },
      "execution_count": null,
      "outputs": []
    },
    {
      "cell_type": "code",
      "source": [
        "train , test =data.randomSplit([0.7,0.3])"
      ],
      "metadata": {
        "id": "Ek2bMwetvqZS"
      },
      "execution_count": null,
      "outputs": []
    },
    {
      "cell_type": "code",
      "source": [
        "linreg = LinearRegression(featuresCol ='features', labelCol='validation_total_MV')\n",
        "linear_model = linreg.fit(train)"
      ],
      "metadata": {
        "id": "vnUlldaZvqRe"
      },
      "execution_count": null,
      "outputs": []
    },
    {
      "cell_type": "code",
      "source": [
        "trainingSummary = linear_model.summary\n",
        "print(\"RMSE: %f\" % trainingSummary.rootMeanSquaredError)\n",
        "#print(\"r2: %f\" % trainingSummary.r2)"
      ],
      "metadata": {
        "colab": {
          "base_uri": "https://localhost:8080/"
        },
        "id": "-WZ-EpWZvqOU",
        "outputId": "636c69a1-c51e-490a-d7f8-b932c12547af"
      },
      "execution_count": null,
      "outputs": [
        {
          "output_type": "stream",
          "name": "stdout",
          "text": [
            "RMSE: 155.036773\n"
          ]
        }
      ]
    },
    {
      "cell_type": "markdown",
      "source": [
        "**Performance de notre modele**"
      ],
      "metadata": {
        "id": "trxOoKnkLRpc"
      }
    },
    {
      "cell_type": "code",
      "source": [
        "lr_predictions = linear_model.transform(test)\n",
        "lr_predictions.select(\"prediction\",\"validation_total_MV\",\"features\").show(7)"
      ],
      "metadata": {
        "colab": {
          "base_uri": "https://localhost:8080/"
        },
        "id": "7ppnREiMvqL2",
        "outputId": "9525ed30-617b-4dfb-a5c9-ce4675dd7ba2"
      },
      "execution_count": null,
      "outputs": [
        {
          "output_type": "stream",
          "name": "stdout",
          "text": [
            "+------------------+-------------------+--------------------+\n",
            "|        prediction|validation_total_MV|            features|\n",
            "+------------------+-------------------+--------------------+\n",
            "|2125.0299001259054| 1852.9589973099496|(14,[0,1,2],[1852...|\n",
            "|2026.1288942788929| 1852.9589973099496|(14,[0,1,2,3,4],[...|\n",
            "|2112.2945929669777| 1607.2255944863225|(14,[0,1,2,3,4,5,...|\n",
            "|1494.7812703063798|  1369.051724776835|[1369.05172477683...|\n",
            "|1498.6186774571102|  1369.051724776835|[1369.05172477683...|\n",
            "|1524.4558552198412| 1458.9375427395528|[1458.93754273955...|\n",
            "|1574.4738800821149| 1458.9375427395528|[1458.93754273955...|\n",
            "+------------------+-------------------+--------------------+\n",
            "only showing top 7 rows\n",
            "\n"
          ]
        }
      ]
    },
    {
      "cell_type": "code",
      "source": [
        "test_result = linear_model.evaluate(test)\n",
        "print(\"Root Mean Squared Error (RMSE) on test data = %g\" % test_result.rootMeanSquaredError)"
      ],
      "metadata": {
        "colab": {
          "base_uri": "https://localhost:8080/"
        },
        "id": "Ko4WwVD8vqJS",
        "outputId": "af03b29b-ce74-4b38-ff73-837c2559fc8d"
      },
      "execution_count": null,
      "outputs": [
        {
          "output_type": "stream",
          "name": "stdout",
          "text": [
            "Root Mean Squared Error (RMSE) on test data = 130.521\n"
          ]
        }
      ]
    },
    {
      "cell_type": "markdown",
      "source": [
        "On remarque que le RMSE du modele avec la moyenne mobile(7 jours) a considerablement diminué comparé au modele initial"
      ],
      "metadata": {
        "id": "1JQl5tKFLaQp"
      }
    }
  ]
}